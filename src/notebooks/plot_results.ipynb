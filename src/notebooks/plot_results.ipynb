{
 "cells": [
  {
   "cell_type": "markdown",
   "metadata": {},
   "source": [
    "# Plotting the results"
   ]
  },
  {
   "cell_type": "code",
   "execution_count": null,
   "metadata": {},
   "outputs": [],
   "source": [
    "import numpy as np\n",
    "import matplotlib.pyplot as plt "
   ]
  },
  {
   "cell_type": "code",
   "execution_count": null,
   "metadata": {},
   "outputs": [],
   "source": [
    "all_data = np.loadtxt('../momentum_dependencetpe218pwanew.dat')\n",
    "all_data = np.transpose(all_data)\n",
    "\n",
    "full_av18 = np.loadtxt('../av18_momentum_dependence.dat')\n",
    "full_av18 = np.transpose(full_av18)\n",
    "\n",
    "momentum = all_data[0]\n",
    "momentum_av18 = full_av18[0]\n",
    "\n",
    "V14a_central = all_data[37]\n",
    "V14a_lower = all_data[37] - all_data[38]\n",
    "V14a_upper = all_data[37] + all_data[38]\n",
    "\n",
    "V14b_central = all_data[39]\n",
    "V14b_lower = all_data[39] - all_data[40]\n",
    "V14b_upper = all_data[39] + all_data[40]\n",
    "\n",
    "av14a = full_av18[19]\n",
    "av14b = full_av18[20]"
   ]
  },
  {
   "cell_type": "code",
   "execution_count": null,
   "metadata": {},
   "outputs": [],
   "source": [
    "def plot_filled_band(x,central,lower,upper,x2,av18,xlabel,ylabel,fname):\n",
    "    plt.fill_between(x,lower,upper, label=r'delta-shell $\\chi$TPE')\n",
    "    plt.plot(x,central)\n",
    "    plt.plot(x2,av18,label=r'AV18')\n",
    "    plt.xlabel(xlabel)\n",
    "    plt.ylabel(ylabel)\n",
    "    plt.legend()\n",
    "    plt.autoscale(enable=True, axis='x', tight=True)\n",
    "    plt.savefig(fname,format='pdf',bbox_inches='tight',transparent=True)\n",
    "    plt.show()"
   ]
  },
  {
   "cell_type": "code",
   "execution_count": null,
   "metadata": {},
   "outputs": [],
   "source": [
    "params = {'text.usetex': False, 'mathtext.fontset':'stixsans','font.size': 16,'axes.linewidth':1}\n",
    "plt.rcParams.update(params)"
   ]
  },
  {
   "cell_type": "code",
   "execution_count": null,
   "metadata": {},
   "outputs": [],
   "source": [
    "xlabel = r'$q$ [fm$^{-1}$]'\n",
    "ylabel = r'$V_{\\rm 14a}$ [MeV fm$^{7}$]'\n",
    "file_name = 'v_momemtum_14a.pdf'\n",
    "plot_filled_band(momentum,V14a_central,V14a_lower,V14a_upper,momentum_av18,av14a,xlabel,ylabel,file_name)"
   ]
  },
  {
   "cell_type": "code",
   "execution_count": null,
   "metadata": {},
   "outputs": [],
   "source": [
    "xlabel = r'$q$ [fm$^{-1}$]'\n",
    "ylabel = r'$V_{\\rm 14b}$ [MeV fm$^{5}$]'\n",
    "file_name = 'v_momemtum_14b.pdf'\n",
    "plot_filled_band(momentum,V14b_central,V14b_lower,V14b_upper,momentum_av18,av14b,xlabel,ylabel,file_name)"
   ]
  }
 ],
 "metadata": {
  "kernelspec": {
   "display_name": "Python 3",
   "language": "python",
   "name": "python3"
  },
  "language_info": {
   "codemirror_mode": {
    "name": "ipython",
    "version": 3
   },
   "file_extension": ".py",
   "mimetype": "text/x-python",
   "name": "python",
   "nbconvert_exporter": "python",
   "pygments_lexer": "ipython3",
   "version": "3.7.3"
  }
 },
 "nbformat": 4,
 "nbformat_minor": 2
}
