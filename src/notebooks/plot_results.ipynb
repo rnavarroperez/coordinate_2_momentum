{
 "cells": [
  {
   "cell_type": "markdown",
   "metadata": {},
   "source": [
    "# Plotting the results"
   ]
  },
  {
   "cell_type": "code",
   "execution_count": null,
   "metadata": {},
   "outputs": [],
   "source": [
    "import numpy as np\n",
    "import matplotlib.pyplot as plt "
   ]
  },
  {
   "cell_type": "code",
   "execution_count": null,
   "metadata": {},
   "outputs": [],
   "source": [
    "full_delta_shell = np.loadtxt('../momentum_dependence_sttpe218pwanew.dat')\n",
    "full_delta_shell = np.transpose(full_delta_shell)\n",
    "\n",
    "full_av18 = np.loadtxt('../av18_momentum_dependence_st_basis.dat')\n",
    "full_av18 = np.transpose(full_av18)\n",
    "\n",
    "full_delta_shell_poly = np.loadtxt('../momentum_dependence_polytpe218pwanew.dat')\n",
    "full_delta_shell_poly = np.transpose(full_delta_shell_poly)\n",
    "\n",
    "full_av18_poly = np.loadtxt('../av18_momentum_dependence_poly_basis.dat')\n",
    "full_av18_poly = np.transpose(full_av18_poly)\n",
    "\n",
    "\n",
    "momentum_delta_shell = full_delta_shell[0]\n",
    "momentum_av18 = full_av18[0]"
   ]
  },
  {
   "cell_type": "code",
   "execution_count": null,
   "metadata": {},
   "outputs": [],
   "source": [
    "def extract_pots(i,pots):\n",
    "    central = pots[2*i-1]\n",
    "    sigma = pots[2*i]\n",
    "    upper = central + sigma\n",
    "    lower = central - sigma\n",
    "    return central, lower, upper"
   ]
  },
  {
   "cell_type": "code",
   "execution_count": null,
   "metadata": {},
   "outputs": [],
   "source": [
    "def plot_all_st_pots(ds_pot,av18_pot,fname):\n",
    "    golden = (1 + 5 ** 0.5) / 2\n",
    "    tags = ['V_C', 'W_C', 'V_S', 'W_S', 'V_T', 'W_T', 'V_{LS}', 'W_{LS}', 'V_Q', 'W_Q', 'V_P', 'W_P']\n",
    "    power = {'V_C':0,\n",
    "         'W_C':0,\n",
    "         'V_S':0,\n",
    "         'W_S':0,\n",
    "         'V_T':2,\n",
    "         'W_T':2,\n",
    "         'V_{LS}':2,\n",
    "         'W_{LS}':2,\n",
    "         'V_Q':4,\n",
    "         'W_Q':4,\n",
    "         'V_P':2,\n",
    "         'W_P':2}\n",
    "    ylabels = {'V_C':r'$V_C$ [MeV fm$^{3}$]',\n",
    "         'W_C':r'$W_C$ [MeV fm$^{3}$]',\n",
    "         'V_S':r'$V_S$ [MeV fm$^{3}$]',\n",
    "         'W_S':r'$W_S$ [MeV fm$^{3}$]',\n",
    "         'V_T':r'$q^2 V_T$ [MeV fm$^{3}$]',\n",
    "         'W_T':r'$q^2 W_T$ [MeV fm$^{3}$]',\n",
    "         'V_{LS}':r'$q^2 V_{LS}$ [MeV fm$^{3}$]',\n",
    "         'W_{LS}':r'$q^2 W_{LS}$ [MeV fm$^{3}$]',\n",
    "         'V_Q':r'$q^4 V_Q$ [MeV fm$^{3}$]',\n",
    "         'W_Q':r'$q^4 W_Q$ [MeV fm$^{3}$]',\n",
    "         'V_P':r'$q^2 V_P$ [MeV fm$^{3}$]',\n",
    "         'W_P':r'$q^2 W_P$ [MeV fm$^{5}$]'}\n",
    "    q_ds = ds_pot[0]\n",
    "    q_av18 = av18_pot[0]\n",
    "    fig, ax = plt.subplots(nrows=3,ncols=4,sharex=True,figsize=(2*7,2*7/(golden*4)*3))\n",
    "    for i, av18pot in enumerate(av18_pot[1:]):\n",
    "        j = i + 1\n",
    "        tag = tags[i]\n",
    "        p = power[tag]\n",
    "        central, lower, upper = extract_pots(j,ds_pot)\n",
    "        ax_i = i%4\n",
    "        ax_j = i//4\n",
    "        ax[ax_j,ax_i].fill_between(q_ds, lower*q_ds**p, upper*q_ds**p, label=r'delta-shell $\\chi$TPE')\n",
    "        ax[ax_j,ax_i].plot(q_ds, central*q_ds**p)\n",
    "        ax[ax_j,ax_i].plot(q_av18, av18pot*q_av18**p, label=r'AV18')\n",
    "        ax[ax_j,ax_i].autoscale(enable=True, axis='x', tight=True)\n",
    "        ylabel = ylabels[tag]#r'$'+tag+r'$ [MeV fm$^{3}$]'#+units[tag]\n",
    "        ax[ax_j,ax_i].set_ylabel(ylabel)\n",
    "        ax[ax_j,ax_i].tick_params(axis='x',direction='in',top=True,bottom=True)\n",
    "        if ax_j == 0:\n",
    "            ax[ax_j,ax_i].tick_params(axis='x',direction='in',top=True)\n",
    "        if ax_j == 2:\n",
    "            ax[ax_j,ax_i].set_xlabel(r'$q$ [fm$^{-1}$]')\n",
    "    ax[0,3].legend()\n",
    "    fig.align_labels()\n",
    "    fig.tight_layout()\n",
    "    fig.savefig(fname,format='pdf',bbox_inches='tight',transparent=True)"
   ]
  },
  {
   "cell_type": "code",
   "execution_count": null,
   "metadata": {},
   "outputs": [],
   "source": [
    "def plot_poly_pots(ds_pot,av18_pot,fname):\n",
    "    golden = (1 + 5 ** 0.5) / 2\n",
    "    tags = ['1','2','3','4','5','6','7','8','9a','9b','10a','10b',\n",
    "            '11a','11b','12a','12b','13a','13b','14a','14b']\n",
    "    units = {'1':'[MeV fm$^{3}$]',\n",
    "         '2':'[MeV fm$^{3}$]',\n",
    "         '3':'[MeV fm$^{3}$]',\n",
    "         '4':'[MeV fm$^{3}$]',\n",
    "         '5':'[MeV fm$^{5}$]',\n",
    "         '6':'[MeV fm$^{5}$]',\n",
    "         '7':'[MeV fm$^{5}$]',\n",
    "         '8':'[MeV fm$^{5}$]',\n",
    "         '9a':'[MeV fm$^{7}$]',\n",
    "         '9b':'[MeV fm$^{5}$]',\n",
    "         '10a':'[MeV fm$^{7}$]',\n",
    "         '10b':'[MeV fm$^{5}$]',\n",
    "         '11a':'[MeV fm$^{7}$]',\n",
    "         '11b':'[MeV fm$^{5}$]',\n",
    "         '12a':'[MeV fm$^{7}$]',\n",
    "         '12b':'[MeV fm$^{5}$]',\n",
    "         '13a':'[MeV fm$^{7}$]',\n",
    "         '13b':'[MeV fm$^{5}$]',\n",
    "         '14a':'[MeV fm$^{7}$]',\n",
    "         '14b':'[MeV fm$^{5}$]'}\n",
    "    q_ds = ds_pot[0]\n",
    "    q_av18 = av18_pot[0]\n",
    "    fig, ax = plt.subplots(nrows=5,ncols=4,sharex=True,figsize=(2*7,2*7/(golden*4)*5))\n",
    "    for i, av18pot in enumerate(av18_pot[1:21]):\n",
    "        j = i + 1\n",
    "        central, lower, upper = extract_pots(j,ds_pot)\n",
    "        ax_i = i%4\n",
    "        ax_j = i//4\n",
    "        ax[ax_j,ax_i].fill_between(q_ds, lower, upper, label=r'delta-shell $\\chi$TPE')\n",
    "        ax[ax_j,ax_i].plot(q_ds, central)\n",
    "        ax[ax_j,ax_i].plot(q_av18, av18pot, label=r'AV18')\n",
    "        ax[ax_j,ax_i].autoscale(enable=True, axis='x', tight=True)\n",
    "        tag = tags[i]\n",
    "        ylabel = r'$V_{'+tag+r'}$ '+units[tag]\n",
    "        ax[ax_j,ax_i].set_ylabel(ylabel)\n",
    "        ax[ax_j,ax_i].tick_params(axis='x',direction='inout',top=True,bottom=True)\n",
    "        if ax_j == 0:\n",
    "            ax[ax_j,ax_i].tick_params(axis='x',direction='in',top=True)\n",
    "        if ax_j == 4:\n",
    "            ax[ax_j,ax_i].set_xlabel(r'$q$ [fm$^{-1}$]')\n",
    "    ax[0,3].legend()\n",
    "    \n",
    "    fig.align_labels()\n",
    "    fig.tight_layout()\n",
    "    fig.savefig(fname,format='pdf',bbox_inches='tight',transparent=True)"
   ]
  },
  {
   "cell_type": "code",
   "execution_count": null,
   "metadata": {},
   "outputs": [],
   "source": [
    "fname = 'v_momentum_st_basis.pdf'\n",
    "plot_all_st_pots(full_delta_shell,full_av18,fname)"
   ]
  },
  {
   "cell_type": "code",
   "execution_count": null,
   "metadata": {},
   "outputs": [],
   "source": [
    "fname = 'v_momentum_poly_basis.pdf'\n",
    "plot_poly_pots(full_delta_shell_poly,full_av18_poly,fname)"
   ]
  }
 ],
 "metadata": {
  "kernelspec": {
   "display_name": "Python 3",
   "language": "python",
   "name": "python3"
  },
  "language_info": {
   "codemirror_mode": {
    "name": "ipython",
    "version": 3
   },
   "file_extension": ".py",
   "mimetype": "text/x-python",
   "name": "python",
   "nbconvert_exporter": "python",
   "pygments_lexer": "ipython3",
   "version": "3.7.3"
  }
 },
 "nbformat": 4,
 "nbformat_minor": 2
}
