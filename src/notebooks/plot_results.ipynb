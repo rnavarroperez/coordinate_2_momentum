{
 "cells": [
  {
   "cell_type": "markdown",
   "metadata": {},
   "source": [
    "# Plotting the results"
   ]
  },
  {
   "cell_type": "code",
   "execution_count": null,
   "metadata": {},
   "outputs": [],
   "source": [
    "import numpy as np\n",
    "import matplotlib.pyplot as plt "
   ]
  },
  {
   "cell_type": "code",
   "execution_count": null,
   "metadata": {},
   "outputs": [],
   "source": [
    "full_delta_shell = np.loadtxt('../momentum_dependencetpe218pwanew.dat')\n",
    "full_delta_shell = np.transpose(full_delta_shell)\n",
    "\n",
    "full_av18 = np.loadtxt('../av18_momentum_dependence.dat')\n",
    "full_av18 = np.transpose(full_av18)\n",
    "\n",
    "momentum_delta_shell = full_delta_shell[0]\n",
    "momentum_av18 = full_av18[0]"
   ]
  },
  {
   "cell_type": "code",
   "execution_count": null,
   "metadata": {},
   "outputs": [],
   "source": [
    "def plot_filled_band(x,central,lower,upper,x2,av18,xlabel,ylabel,fname):\n",
    "    plt.fill_between(x,lower,upper, label=r'delta-shell $\\chi$TPE')\n",
    "    plt.plot(x,central)\n",
    "    plt.plot(x2,av18,label=r'AV18')\n",
    "    plt.xlabel(xlabel)\n",
    "    plt.ylabel(ylabel)\n",
    "    plt.legend()\n",
    "    plt.autoscale(enable=True, axis='x', tight=True)\n",
    "    plt.savefig(fname,format='pdf',bbox_inches='tight',transparent=True)\n",
    "    plt.close()\n",
    "    #plt.show()"
   ]
  },
  {
   "cell_type": "code",
   "execution_count": null,
   "metadata": {},
   "outputs": [],
   "source": [
    "params = {'text.usetex': False, 'mathtext.fontset':'stixsans','font.size': 16,'axes.linewidth':1}\n",
    "plt.rcParams.update(params)"
   ]
  },
  {
   "cell_type": "code",
   "execution_count": null,
   "metadata": {},
   "outputs": [],
   "source": [
    "tags = ['1','2','3','4','5','6','7','8','9a','9b','10a','10b',\n",
    "        '11a','11b','12a','12b','13a','13b','14a','14b','15','16','17','18']\n",
    "\n",
    "units = {'1':'[MeV fm$^{3}$]',\n",
    "         '2':'[MeV fm$^{3}$]',\n",
    "         '3':'[MeV fm$^{3}$]',\n",
    "         '4':'[MeV fm$^{3}$]',\n",
    "         '5':'[MeV fm$^{5}$]',\n",
    "         '6':'[MeV fm$^{5}$]',\n",
    "         '7':'[MeV fm$^{5}$]',\n",
    "         '8':'[MeV fm$^{5}$]',\n",
    "         '9a':'[MeV fm$^{7}$]',\n",
    "         '9b':'[MeV fm$^{5}$]',\n",
    "         '10a':'[MeV fm$^{7}$]',\n",
    "         '10b':'[MeV fm$^{5}$]',\n",
    "         '11a':'[MeV fm$^{7}$]',\n",
    "         '11b':'[MeV fm$^{5}$]',\n",
    "         '12a':'[MeV fm$^{7}$]',\n",
    "         '12b':'[MeV fm$^{5}$]',\n",
    "         '13a':'[MeV fm$^{7}$]',\n",
    "         '13b':'[MeV fm$^{5}$]',\n",
    "         '14a':'[MeV fm$^{7}$]',\n",
    "         '14b':'[MeV fm$^{5}$]',\n",
    "         '15':'[MeV fm$^{3}$]',\n",
    "         '16':'[MeV fm$^{3}$]',\n",
    "         '17':'[MeV fm$^{5}$]',\n",
    "         '18':'[MeV fm$^{3}$]'}\n",
    "\n",
    "xlabel = r'$q$ [fm$^{-1}$]'\n",
    "for i,tag in enumerate(tags):\n",
    "    indx = 2*i+1\n",
    "    ds_central = full_delta_shell[indx]\n",
    "    ds_lower = full_delta_shell[indx] - full_delta_shell[indx+1]\n",
    "    ds_upper = full_delta_shell[indx] + full_delta_shell[indx+1]\n",
    "    av18 = full_av18[i+1]\n",
    "    ylabel = r'$V_{\\rm '+tag+r'}$ '+units[tag]\n",
    "    file_name = 'v_momemtum_'+tag+'.pdf'\n",
    "    plot_filled_band(momentum_delta_shell,ds_central,ds_lower,ds_upper,momentum_av18,av18,xlabel,ylabel,file_name)"
   ]
  }
 ],
 "metadata": {
  "kernelspec": {
   "display_name": "Python 3",
   "language": "python",
   "name": "python3"
  },
  "language_info": {
   "codemirror_mode": {
    "name": "ipython",
    "version": 3
   },
   "file_extension": ".py",
   "mimetype": "text/x-python",
   "name": "python",
   "nbconvert_exporter": "python",
   "pygments_lexer": "ipython3",
   "version": "3.7.3"
  }
 },
 "nbformat": 4,
 "nbformat_minor": 2
}
